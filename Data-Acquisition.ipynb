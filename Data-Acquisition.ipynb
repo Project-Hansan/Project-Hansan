{
 "cells": [
  {
   "attachments": {},
   "cell_type": "markdown",
   "metadata": {},
   "source": [
    "# Data Acquisition Notebook\n",
    "\n",
    "## Hypotheses:\n",
    "\n",
    "1. Which MP's are most guilty of interrupting another MP (giving way)? Are women interrupted more than men?\n",
    "2. Detecting biased and discriminating language / sentiment of debates in search of party/gender/demographic differences\n",
    "\n",
    "## Goals:\n",
    "\n",
    "☑️ Connect to API \n",
    "\n",
    "☑️ Collect debate data\n",
    "\n",
    "## Data collection notes:\n",
    "\n",
    "- Historical data on the API is up to 2004 does not include debate content (?)\n",
    "- There are other APIs & downloadable files that we can collect it from\n",
    "- Could we scrape the gov website to fill in the debate gaps from 2004 onwards?"
   ]
  },
  {
   "cell_type": "markdown",
   "metadata": {},
   "source": []
  }
 ],
 "metadata": {
  "language_info": {
   "name": "python"
  },
  "orig_nbformat": 4
 },
 "nbformat": 4,
 "nbformat_minor": 2
}
